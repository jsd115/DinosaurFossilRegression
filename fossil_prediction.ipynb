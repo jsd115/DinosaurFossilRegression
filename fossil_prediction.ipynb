{
 "cells": [
  {
   "cell_type": "markdown",
   "metadata": {},
   "source": [
    "# Regression Analysis Predicting Dino Fossil Age"
   ]
  },
  {
   "cell_type": "markdown",
   "metadata": {},
   "source": [
    "The datasets can be found on Kaggle using this link: https://www.kaggle.com/datasets/stealthtechnologies/predict-the-age-of-a-fossil/data.\n",
    "\n",
    "Libraries used are: \n",
    "* Pandas: https://pandas.pydata.org/docs/\n",
    "* Numpy: https://numpy.org/doc/\n",
    "* Matplotlib: https://matplotlib.org/\n",
    "* Keras: https://keras.io/guides/\n",
    "* Sklearn: https://scikit-learn.org/stable/index.html\n",
    "\n",
    "## Goal of the document:\n",
    "Perform exploratory regression analysis using Keras's easy-to-use neural network modules to predict the age of different dinosaur fossils. Additionally, use Sklearn's Gradient Boost and Random Forest Regressors for comparisons. "
   ]
  },
  {
   "cell_type": "markdown",
   "metadata": {},
   "source": [
    "## Import Libraries"
   ]
  },
  {
   "cell_type": "code",
   "execution_count": 1,
   "metadata": {},
   "outputs": [
    {
     "name": "stdout",
     "output_type": "stream",
     "text": [
      "WARNING:tensorflow:From c:\\Users\\sdelo\\AppData\\Local\\Programs\\Python\\Python311\\Lib\\site-packages\\keras\\src\\losses.py:2976: The name tf.losses.sparse_softmax_cross_entropy is deprecated. Please use tf.compat.v1.losses.sparse_softmax_cross_entropy instead.\n",
      "\n"
     ]
    }
   ],
   "source": [
    "import pandas as pd\n",
    "import numpy as np\n",
    "import matplotlib.pyplot as plt\n",
    "from keras.models import Sequential\n",
    "from keras.layers import Dense\n",
    "from sklearn.preprocessing import OneHotEncoder\n",
    "from sklearn.preprocessing import LabelEncoder\n",
    "from sklearn.metrics import mean_squared_error\n",
    "from sklearn.ensemble import GradientBoostingRegressor, RandomForestRegressor"
   ]
  },
  {
   "cell_type": "markdown",
   "metadata": {},
   "source": [
    "## Read Test Data"
   ]
  },
  {
   "cell_type": "code",
   "execution_count": 2,
   "metadata": {},
   "outputs": [
    {
     "data": {
      "text/html": [
       "<div>\n",
       "<style scoped>\n",
       "    .dataframe tbody tr th:only-of-type {\n",
       "        vertical-align: middle;\n",
       "    }\n",
       "\n",
       "    .dataframe tbody tr th {\n",
       "        vertical-align: top;\n",
       "    }\n",
       "\n",
       "    .dataframe thead th {\n",
       "        text-align: right;\n",
       "    }\n",
       "</style>\n",
       "<table border=\"1\" class=\"dataframe\">\n",
       "  <thead>\n",
       "    <tr style=\"text-align: right;\">\n",
       "      <th></th>\n",
       "      <th>uranium_lead_ratio</th>\n",
       "      <th>carbon_14_ratio</th>\n",
       "      <th>radioactive_decay_series</th>\n",
       "      <th>stratigraphic_layer_depth</th>\n",
       "      <th>geological_period</th>\n",
       "      <th>paleomagnetic_data</th>\n",
       "      <th>inclusion_of_other_fossils</th>\n",
       "      <th>isotopic_composition</th>\n",
       "      <th>surrounding_rock_type</th>\n",
       "      <th>stratigraphic_position</th>\n",
       "      <th>fossil_size</th>\n",
       "      <th>fossil_weight</th>\n",
       "      <th>age</th>\n",
       "    </tr>\n",
       "  </thead>\n",
       "  <tbody>\n",
       "    <tr>\n",
       "      <th>0</th>\n",
       "      <td>0.469986</td>\n",
       "      <td>1.000000</td>\n",
       "      <td>0.667595</td>\n",
       "      <td>29.58</td>\n",
       "      <td>Triassic</td>\n",
       "      <td>Normal polarity</td>\n",
       "      <td>False</td>\n",
       "      <td>0.583560</td>\n",
       "      <td>Limestone</td>\n",
       "      <td>Bottom</td>\n",
       "      <td>120.12</td>\n",
       "      <td>73.83</td>\n",
       "      <td>41072</td>\n",
       "    </tr>\n",
       "    <tr>\n",
       "      <th>1</th>\n",
       "      <td>0.619865</td>\n",
       "      <td>0.474208</td>\n",
       "      <td>1.218381</td>\n",
       "      <td>69.87</td>\n",
       "      <td>Cretaceous</td>\n",
       "      <td>Reversed polarity</td>\n",
       "      <td>True</td>\n",
       "      <td>0.942719</td>\n",
       "      <td>Shale</td>\n",
       "      <td>Middle</td>\n",
       "      <td>72.82</td>\n",
       "      <td>191.68</td>\n",
       "      <td>42085</td>\n",
       "    </tr>\n",
       "    <tr>\n",
       "      <th>2</th>\n",
       "      <td>0.767736</td>\n",
       "      <td>0.478731</td>\n",
       "      <td>0.119801</td>\n",
       "      <td>96.38</td>\n",
       "      <td>Cretaceous</td>\n",
       "      <td>Normal polarity</td>\n",
       "      <td>False</td>\n",
       "      <td>0.377531</td>\n",
       "      <td>Sandstone</td>\n",
       "      <td>Bottom</td>\n",
       "      <td>105.47</td>\n",
       "      <td>82.25</td>\n",
       "      <td>50436</td>\n",
       "    </tr>\n",
       "    <tr>\n",
       "      <th>3</th>\n",
       "      <td>0.275121</td>\n",
       "      <td>0.400594</td>\n",
       "      <td>0.634760</td>\n",
       "      <td>134.10</td>\n",
       "      <td>Triassic</td>\n",
       "      <td>Normal polarity</td>\n",
       "      <td>True</td>\n",
       "      <td>0.323820</td>\n",
       "      <td>Sandstone</td>\n",
       "      <td>Middle</td>\n",
       "      <td>94.99</td>\n",
       "      <td>47.99</td>\n",
       "      <td>25923</td>\n",
       "    </tr>\n",
       "    <tr>\n",
       "      <th>4</th>\n",
       "      <td>0.407470</td>\n",
       "      <td>0.039705</td>\n",
       "      <td>0.824597</td>\n",
       "      <td>124.10</td>\n",
       "      <td>Triassic</td>\n",
       "      <td>Normal polarity</td>\n",
       "      <td>False</td>\n",
       "      <td>1.219120</td>\n",
       "      <td>Shale</td>\n",
       "      <td>Middle</td>\n",
       "      <td>139.93</td>\n",
       "      <td>532.62</td>\n",
       "      <td>30272</td>\n",
       "    </tr>\n",
       "  </tbody>\n",
       "</table>\n",
       "</div>"
      ],
      "text/plain": [
       "   uranium_lead_ratio  carbon_14_ratio  radioactive_decay_series  \\\n",
       "0            0.469986         1.000000                  0.667595   \n",
       "1            0.619865         0.474208                  1.218381   \n",
       "2            0.767736         0.478731                  0.119801   \n",
       "3            0.275121         0.400594                  0.634760   \n",
       "4            0.407470         0.039705                  0.824597   \n",
       "\n",
       "   stratigraphic_layer_depth geological_period paleomagnetic_data  \\\n",
       "0                      29.58          Triassic    Normal polarity   \n",
       "1                      69.87        Cretaceous  Reversed polarity   \n",
       "2                      96.38        Cretaceous    Normal polarity   \n",
       "3                     134.10          Triassic    Normal polarity   \n",
       "4                     124.10          Triassic    Normal polarity   \n",
       "\n",
       "   inclusion_of_other_fossils  isotopic_composition surrounding_rock_type  \\\n",
       "0                       False              0.583560             Limestone   \n",
       "1                        True              0.942719                 Shale   \n",
       "2                       False              0.377531             Sandstone   \n",
       "3                        True              0.323820             Sandstone   \n",
       "4                       False              1.219120                 Shale   \n",
       "\n",
       "  stratigraphic_position  fossil_size  fossil_weight    age  \n",
       "0                 Bottom       120.12          73.83  41072  \n",
       "1                 Middle        72.82         191.68  42085  \n",
       "2                 Bottom       105.47          82.25  50436  \n",
       "3                 Middle        94.99          47.99  25923  \n",
       "4                 Middle       139.93         532.62  30272  "
      ]
     },
     "execution_count": 2,
     "metadata": {},
     "output_type": "execute_result"
    }
   ],
   "source": [
    "# Use pandas to read data\n",
    "test_df = pd.read_csv('test_data.csv')\n",
    "# Visualize\n",
    "test_df.head()"
   ]
  },
  {
   "cell_type": "code",
   "execution_count": 3,
   "metadata": {},
   "outputs": [
    {
     "data": {
      "text/plain": [
       "uranium_lead_ratio            0\n",
       "carbon_14_ratio               0\n",
       "radioactive_decay_series      0\n",
       "stratigraphic_layer_depth     0\n",
       "geological_period             0\n",
       "paleomagnetic_data            0\n",
       "inclusion_of_other_fossils    0\n",
       "isotopic_composition          0\n",
       "surrounding_rock_type         0\n",
       "stratigraphic_position        0\n",
       "fossil_size                   0\n",
       "fossil_weight                 0\n",
       "age                           0\n",
       "dtype: int64"
      ]
     },
     "execution_count": 3,
     "metadata": {},
     "output_type": "execute_result"
    }
   ],
   "source": [
    "# Check for any null values\n",
    "test_df.isnull().sum()"
   ]
  },
  {
   "cell_type": "code",
   "execution_count": 4,
   "metadata": {},
   "outputs": [
    {
     "data": {
      "text/plain": [
       "0"
      ]
     },
     "execution_count": 4,
     "metadata": {},
     "output_type": "execute_result"
    }
   ],
   "source": [
    "# Check for any duplicates\n",
    "test_df.duplicated().sum()"
   ]
  },
  {
   "cell_type": "code",
   "execution_count": 5,
   "metadata": {},
   "outputs": [
    {
     "data": {
      "text/plain": [
       "(1100, 13)"
      ]
     },
     "execution_count": 5,
     "metadata": {},
     "output_type": "execute_result"
    }
   ],
   "source": [
    "# Guage shape of data\n",
    "test_df.shape"
   ]
  },
  {
   "cell_type": "code",
   "execution_count": 6,
   "metadata": {},
   "outputs": [
    {
     "data": {
      "text/html": [
       "<div>\n",
       "<style scoped>\n",
       "    .dataframe tbody tr th:only-of-type {\n",
       "        vertical-align: middle;\n",
       "    }\n",
       "\n",
       "    .dataframe tbody tr th {\n",
       "        vertical-align: top;\n",
       "    }\n",
       "\n",
       "    .dataframe thead th {\n",
       "        text-align: right;\n",
       "    }\n",
       "</style>\n",
       "<table border=\"1\" class=\"dataframe\">\n",
       "  <thead>\n",
       "    <tr style=\"text-align: right;\">\n",
       "      <th></th>\n",
       "      <th>uranium_lead_ratio</th>\n",
       "      <th>carbon_14_ratio</th>\n",
       "      <th>radioactive_decay_series</th>\n",
       "      <th>stratigraphic_layer_depth</th>\n",
       "      <th>isotopic_composition</th>\n",
       "      <th>fossil_size</th>\n",
       "      <th>fossil_weight</th>\n",
       "      <th>age</th>\n",
       "    </tr>\n",
       "  </thead>\n",
       "  <tbody>\n",
       "    <tr>\n",
       "      <th>count</th>\n",
       "      <td>1100.000000</td>\n",
       "      <td>1100.000000</td>\n",
       "      <td>1100.000000</td>\n",
       "      <td>1100.000000</td>\n",
       "      <td>1100.000000</td>\n",
       "      <td>1100.000000</td>\n",
       "      <td>1100.000000</td>\n",
       "      <td>1100.000000</td>\n",
       "    </tr>\n",
       "    <tr>\n",
       "      <th>mean</th>\n",
       "      <td>0.496433</td>\n",
       "      <td>0.440684</td>\n",
       "      <td>0.547931</td>\n",
       "      <td>158.043745</td>\n",
       "      <td>0.956632</td>\n",
       "      <td>69.467227</td>\n",
       "      <td>320.156882</td>\n",
       "      <td>41251.645455</td>\n",
       "    </tr>\n",
       "    <tr>\n",
       "      <th>std</th>\n",
       "      <td>0.257374</td>\n",
       "      <td>0.243740</td>\n",
       "      <td>0.292226</td>\n",
       "      <td>90.562171</td>\n",
       "      <td>0.537401</td>\n",
       "      <td>36.274039</td>\n",
       "      <td>189.229364</td>\n",
       "      <td>15593.580441</td>\n",
       "    </tr>\n",
       "    <tr>\n",
       "      <th>min</th>\n",
       "      <td>0.003261</td>\n",
       "      <td>0.002765</td>\n",
       "      <td>0.001097</td>\n",
       "      <td>1.210000</td>\n",
       "      <td>0.008463</td>\n",
       "      <td>1.360000</td>\n",
       "      <td>0.050000</td>\n",
       "      <td>6106.000000</td>\n",
       "    </tr>\n",
       "    <tr>\n",
       "      <th>25%</th>\n",
       "      <td>0.305624</td>\n",
       "      <td>0.259897</td>\n",
       "      <td>0.318108</td>\n",
       "      <td>87.025000</td>\n",
       "      <td>0.560966</td>\n",
       "      <td>41.440000</td>\n",
       "      <td>173.000000</td>\n",
       "      <td>29536.750000</td>\n",
       "    </tr>\n",
       "    <tr>\n",
       "      <th>50%</th>\n",
       "      <td>0.480013</td>\n",
       "      <td>0.434407</td>\n",
       "      <td>0.545213</td>\n",
       "      <td>147.495000</td>\n",
       "      <td>0.902628</td>\n",
       "      <td>68.635000</td>\n",
       "      <td>307.605000</td>\n",
       "      <td>40677.500000</td>\n",
       "    </tr>\n",
       "    <tr>\n",
       "      <th>75%</th>\n",
       "      <td>0.674765</td>\n",
       "      <td>0.601421</td>\n",
       "      <td>0.753442</td>\n",
       "      <td>221.847500</td>\n",
       "      <td>1.294061</td>\n",
       "      <td>94.482500</td>\n",
       "      <td>452.320000</td>\n",
       "      <td>50816.250000</td>\n",
       "    </tr>\n",
       "    <tr>\n",
       "      <th>max</th>\n",
       "      <td>1.321068</td>\n",
       "      <td>1.000000</td>\n",
       "      <td>1.527375</td>\n",
       "      <td>522.110000</td>\n",
       "      <td>3.148906</td>\n",
       "      <td>176.990000</td>\n",
       "      <td>984.350000</td>\n",
       "      <td>93741.000000</td>\n",
       "    </tr>\n",
       "  </tbody>\n",
       "</table>\n",
       "</div>"
      ],
      "text/plain": [
       "       uranium_lead_ratio  carbon_14_ratio  radioactive_decay_series  \\\n",
       "count         1100.000000      1100.000000               1100.000000   \n",
       "mean             0.496433         0.440684                  0.547931   \n",
       "std              0.257374         0.243740                  0.292226   \n",
       "min              0.003261         0.002765                  0.001097   \n",
       "25%              0.305624         0.259897                  0.318108   \n",
       "50%              0.480013         0.434407                  0.545213   \n",
       "75%              0.674765         0.601421                  0.753442   \n",
       "max              1.321068         1.000000                  1.527375   \n",
       "\n",
       "       stratigraphic_layer_depth  isotopic_composition  fossil_size  \\\n",
       "count                1100.000000           1100.000000  1100.000000   \n",
       "mean                  158.043745              0.956632    69.467227   \n",
       "std                    90.562171              0.537401    36.274039   \n",
       "min                     1.210000              0.008463     1.360000   \n",
       "25%                    87.025000              0.560966    41.440000   \n",
       "50%                   147.495000              0.902628    68.635000   \n",
       "75%                   221.847500              1.294061    94.482500   \n",
       "max                   522.110000              3.148906   176.990000   \n",
       "\n",
       "       fossil_weight           age  \n",
       "count    1100.000000   1100.000000  \n",
       "mean      320.156882  41251.645455  \n",
       "std       189.229364  15593.580441  \n",
       "min         0.050000   6106.000000  \n",
       "25%       173.000000  29536.750000  \n",
       "50%       307.605000  40677.500000  \n",
       "75%       452.320000  50816.250000  \n",
       "max       984.350000  93741.000000  "
      ]
     },
     "execution_count": 6,
     "metadata": {},
     "output_type": "execute_result"
    }
   ],
   "source": [
    "# Check Range and other statistics about numerical columns\n",
    "test_df.describe()"
   ]
  },
  {
   "cell_type": "markdown",
   "metadata": {},
   "source": [
    "The `.describe()` function here reveals that there are no extremely large ranges among any of the numerical values meaning that the values in the age column will likely not have to be normalized."
   ]
  },
  {
   "cell_type": "markdown",
   "metadata": {},
   "source": [
    "## Read Train Data (Executing all the same functions to verify data cleanliness)"
   ]
  },
  {
   "cell_type": "code",
   "execution_count": 7,
   "metadata": {},
   "outputs": [
    {
     "data": {
      "text/html": [
       "<div>\n",
       "<style scoped>\n",
       "    .dataframe tbody tr th:only-of-type {\n",
       "        vertical-align: middle;\n",
       "    }\n",
       "\n",
       "    .dataframe tbody tr th {\n",
       "        vertical-align: top;\n",
       "    }\n",
       "\n",
       "    .dataframe thead th {\n",
       "        text-align: right;\n",
       "    }\n",
       "</style>\n",
       "<table border=\"1\" class=\"dataframe\">\n",
       "  <thead>\n",
       "    <tr style=\"text-align: right;\">\n",
       "      <th></th>\n",
       "      <th>uranium_lead_ratio</th>\n",
       "      <th>carbon_14_ratio</th>\n",
       "      <th>radioactive_decay_series</th>\n",
       "      <th>stratigraphic_layer_depth</th>\n",
       "      <th>geological_period</th>\n",
       "      <th>paleomagnetic_data</th>\n",
       "      <th>inclusion_of_other_fossils</th>\n",
       "      <th>isotopic_composition</th>\n",
       "      <th>surrounding_rock_type</th>\n",
       "      <th>stratigraphic_position</th>\n",
       "      <th>fossil_size</th>\n",
       "      <th>fossil_weight</th>\n",
       "      <th>age</th>\n",
       "    </tr>\n",
       "  </thead>\n",
       "  <tbody>\n",
       "    <tr>\n",
       "      <th>0</th>\n",
       "      <td>0.738061</td>\n",
       "      <td>0.487707</td>\n",
       "      <td>0.907884</td>\n",
       "      <td>91.17</td>\n",
       "      <td>Cretaceous</td>\n",
       "      <td>Normal polarity</td>\n",
       "      <td>False</td>\n",
       "      <td>0.915951</td>\n",
       "      <td>Conglomerate</td>\n",
       "      <td>Middle</td>\n",
       "      <td>50.65</td>\n",
       "      <td>432.00</td>\n",
       "      <td>43523</td>\n",
       "    </tr>\n",
       "    <tr>\n",
       "      <th>1</th>\n",
       "      <td>0.560096</td>\n",
       "      <td>0.341738</td>\n",
       "      <td>1.121302</td>\n",
       "      <td>165.44</td>\n",
       "      <td>Cambrian</td>\n",
       "      <td>Normal polarity</td>\n",
       "      <td>False</td>\n",
       "      <td>0.803968</td>\n",
       "      <td>Limestone</td>\n",
       "      <td>Top</td>\n",
       "      <td>48.85</td>\n",
       "      <td>353.29</td>\n",
       "      <td>44112</td>\n",
       "    </tr>\n",
       "    <tr>\n",
       "      <th>2</th>\n",
       "      <td>0.424773</td>\n",
       "      <td>0.218493</td>\n",
       "      <td>0.103855</td>\n",
       "      <td>218.98</td>\n",
       "      <td>Cambrian</td>\n",
       "      <td>Normal polarity</td>\n",
       "      <td>True</td>\n",
       "      <td>0.792441</td>\n",
       "      <td>Shale</td>\n",
       "      <td>Bottom</td>\n",
       "      <td>37.66</td>\n",
       "      <td>371.33</td>\n",
       "      <td>43480</td>\n",
       "    </tr>\n",
       "    <tr>\n",
       "      <th>3</th>\n",
       "      <td>0.349958</td>\n",
       "      <td>0.704649</td>\n",
       "      <td>0.383617</td>\n",
       "      <td>51.09</td>\n",
       "      <td>Permian</td>\n",
       "      <td>Normal polarity</td>\n",
       "      <td>True</td>\n",
       "      <td>0.074636</td>\n",
       "      <td>Limestone</td>\n",
       "      <td>Bottom</td>\n",
       "      <td>39.10</td>\n",
       "      <td>232.84</td>\n",
       "      <td>30228</td>\n",
       "    </tr>\n",
       "    <tr>\n",
       "      <th>4</th>\n",
       "      <td>0.886811</td>\n",
       "      <td>0.777494</td>\n",
       "      <td>0.593254</td>\n",
       "      <td>313.72</td>\n",
       "      <td>Devonian</td>\n",
       "      <td>Normal polarity</td>\n",
       "      <td>True</td>\n",
       "      <td>1.646640</td>\n",
       "      <td>Shale</td>\n",
       "      <td>Top</td>\n",
       "      <td>90.84</td>\n",
       "      <td>277.67</td>\n",
       "      <td>67217</td>\n",
       "    </tr>\n",
       "  </tbody>\n",
       "</table>\n",
       "</div>"
      ],
      "text/plain": [
       "   uranium_lead_ratio  carbon_14_ratio  radioactive_decay_series  \\\n",
       "0            0.738061         0.487707                  0.907884   \n",
       "1            0.560096         0.341738                  1.121302   \n",
       "2            0.424773         0.218493                  0.103855   \n",
       "3            0.349958         0.704649                  0.383617   \n",
       "4            0.886811         0.777494                  0.593254   \n",
       "\n",
       "   stratigraphic_layer_depth geological_period paleomagnetic_data  \\\n",
       "0                      91.17        Cretaceous    Normal polarity   \n",
       "1                     165.44          Cambrian    Normal polarity   \n",
       "2                     218.98          Cambrian    Normal polarity   \n",
       "3                      51.09           Permian    Normal polarity   \n",
       "4                     313.72          Devonian    Normal polarity   \n",
       "\n",
       "   inclusion_of_other_fossils  isotopic_composition surrounding_rock_type  \\\n",
       "0                       False              0.915951          Conglomerate   \n",
       "1                       False              0.803968             Limestone   \n",
       "2                        True              0.792441                 Shale   \n",
       "3                        True              0.074636             Limestone   \n",
       "4                        True              1.646640                 Shale   \n",
       "\n",
       "  stratigraphic_position  fossil_size  fossil_weight    age  \n",
       "0                 Middle        50.65         432.00  43523  \n",
       "1                    Top        48.85         353.29  44112  \n",
       "2                 Bottom        37.66         371.33  43480  \n",
       "3                 Bottom        39.10         232.84  30228  \n",
       "4                    Top        90.84         277.67  67217  "
      ]
     },
     "execution_count": 7,
     "metadata": {},
     "output_type": "execute_result"
    }
   ],
   "source": [
    "train_df = pd.read_csv('train_data.csv')\n",
    "train_df.head()"
   ]
  },
  {
   "cell_type": "code",
   "execution_count": 8,
   "metadata": {},
   "outputs": [
    {
     "data": {
      "text/plain": [
       "0"
      ]
     },
     "execution_count": 8,
     "metadata": {},
     "output_type": "execute_result"
    }
   ],
   "source": [
    "train_df.duplicated().sum()"
   ]
  },
  {
   "cell_type": "code",
   "execution_count": 9,
   "metadata": {},
   "outputs": [
    {
     "data": {
      "text/plain": [
       "array(['Normal polarity', 'Reversed polarity'], dtype=object)"
      ]
     },
     "execution_count": 9,
     "metadata": {},
     "output_type": "execute_result"
    }
   ],
   "source": [
    "train_df['paleomagnetic_data'].unique()"
   ]
  },
  {
   "cell_type": "code",
   "execution_count": 10,
   "metadata": {},
   "outputs": [
    {
     "data": {
      "text/plain": [
       "uranium_lead_ratio            0\n",
       "carbon_14_ratio               0\n",
       "radioactive_decay_series      0\n",
       "stratigraphic_layer_depth     0\n",
       "geological_period             0\n",
       "paleomagnetic_data            0\n",
       "inclusion_of_other_fossils    0\n",
       "isotopic_composition          0\n",
       "surrounding_rock_type         0\n",
       "stratigraphic_position        0\n",
       "fossil_size                   0\n",
       "fossil_weight                 0\n",
       "age                           0\n",
       "dtype: int64"
      ]
     },
     "execution_count": 10,
     "metadata": {},
     "output_type": "execute_result"
    }
   ],
   "source": [
    "train_df.isnull().sum()"
   ]
  },
  {
   "cell_type": "code",
   "execution_count": 11,
   "metadata": {},
   "outputs": [
    {
     "data": {
      "text/plain": [
       "(4398, 13)"
      ]
     },
     "execution_count": 11,
     "metadata": {},
     "output_type": "execute_result"
    }
   ],
   "source": [
    "train_df.shape"
   ]
  },
  {
   "cell_type": "code",
   "execution_count": 12,
   "metadata": {},
   "outputs": [
    {
     "data": {
      "text/html": [
       "<div>\n",
       "<style scoped>\n",
       "    .dataframe tbody tr th:only-of-type {\n",
       "        vertical-align: middle;\n",
       "    }\n",
       "\n",
       "    .dataframe tbody tr th {\n",
       "        vertical-align: top;\n",
       "    }\n",
       "\n",
       "    .dataframe thead th {\n",
       "        text-align: right;\n",
       "    }\n",
       "</style>\n",
       "<table border=\"1\" class=\"dataframe\">\n",
       "  <thead>\n",
       "    <tr style=\"text-align: right;\">\n",
       "      <th></th>\n",
       "      <th>uranium_lead_ratio</th>\n",
       "      <th>carbon_14_ratio</th>\n",
       "      <th>radioactive_decay_series</th>\n",
       "      <th>stratigraphic_layer_depth</th>\n",
       "      <th>isotopic_composition</th>\n",
       "      <th>fossil_size</th>\n",
       "      <th>fossil_weight</th>\n",
       "      <th>age</th>\n",
       "    </tr>\n",
       "  </thead>\n",
       "  <tbody>\n",
       "    <tr>\n",
       "      <th>count</th>\n",
       "      <td>4398.000000</td>\n",
       "      <td>4398.000000</td>\n",
       "      <td>4398.000000</td>\n",
       "      <td>4398.000000</td>\n",
       "      <td>4398.000000</td>\n",
       "      <td>4398.000000</td>\n",
       "      <td>4398.000000</td>\n",
       "      <td>4398.000000</td>\n",
       "    </tr>\n",
       "    <tr>\n",
       "      <th>mean</th>\n",
       "      <td>0.486938</td>\n",
       "      <td>0.430116</td>\n",
       "      <td>0.532054</td>\n",
       "      <td>152.832801</td>\n",
       "      <td>0.938315</td>\n",
       "      <td>70.702460</td>\n",
       "      <td>326.655177</td>\n",
       "      <td>40586.656435</td>\n",
       "    </tr>\n",
       "    <tr>\n",
       "      <th>std</th>\n",
       "      <td>0.257132</td>\n",
       "      <td>0.233536</td>\n",
       "      <td>0.287929</td>\n",
       "      <td>86.272234</td>\n",
       "      <td>0.521643</td>\n",
       "      <td>37.352584</td>\n",
       "      <td>187.032333</td>\n",
       "      <td>15200.700905</td>\n",
       "    </tr>\n",
       "    <tr>\n",
       "      <th>min</th>\n",
       "      <td>0.000241</td>\n",
       "      <td>0.000244</td>\n",
       "      <td>0.000076</td>\n",
       "      <td>0.130000</td>\n",
       "      <td>0.000275</td>\n",
       "      <td>0.130000</td>\n",
       "      <td>0.620000</td>\n",
       "      <td>4208.000000</td>\n",
       "    </tr>\n",
       "    <tr>\n",
       "      <th>25%</th>\n",
       "      <td>0.294091</td>\n",
       "      <td>0.246269</td>\n",
       "      <td>0.316775</td>\n",
       "      <td>85.390000</td>\n",
       "      <td>0.533519</td>\n",
       "      <td>42.487500</td>\n",
       "      <td>181.047500</td>\n",
       "      <td>29766.250000</td>\n",
       "    </tr>\n",
       "    <tr>\n",
       "      <th>50%</th>\n",
       "      <td>0.473715</td>\n",
       "      <td>0.416046</td>\n",
       "      <td>0.511830</td>\n",
       "      <td>146.000000</td>\n",
       "      <td>0.905684</td>\n",
       "      <td>68.785000</td>\n",
       "      <td>308.260000</td>\n",
       "      <td>39567.000000</td>\n",
       "    </tr>\n",
       "    <tr>\n",
       "      <th>75%</th>\n",
       "      <td>0.658012</td>\n",
       "      <td>0.590752</td>\n",
       "      <td>0.723805</td>\n",
       "      <td>211.932500</td>\n",
       "      <td>1.289307</td>\n",
       "      <td>96.440000</td>\n",
       "      <td>455.520000</td>\n",
       "      <td>50550.500000</td>\n",
       "    </tr>\n",
       "    <tr>\n",
       "      <th>max</th>\n",
       "      <td>1.533270</td>\n",
       "      <td>1.000000</td>\n",
       "      <td>1.513325</td>\n",
       "      <td>494.200000</td>\n",
       "      <td>3.071434</td>\n",
       "      <td>216.390000</td>\n",
       "      <td>1010.090000</td>\n",
       "      <td>103079.000000</td>\n",
       "    </tr>\n",
       "  </tbody>\n",
       "</table>\n",
       "</div>"
      ],
      "text/plain": [
       "       uranium_lead_ratio  carbon_14_ratio  radioactive_decay_series  \\\n",
       "count         4398.000000      4398.000000               4398.000000   \n",
       "mean             0.486938         0.430116                  0.532054   \n",
       "std              0.257132         0.233536                  0.287929   \n",
       "min              0.000241         0.000244                  0.000076   \n",
       "25%              0.294091         0.246269                  0.316775   \n",
       "50%              0.473715         0.416046                  0.511830   \n",
       "75%              0.658012         0.590752                  0.723805   \n",
       "max              1.533270         1.000000                  1.513325   \n",
       "\n",
       "       stratigraphic_layer_depth  isotopic_composition  fossil_size  \\\n",
       "count                4398.000000           4398.000000  4398.000000   \n",
       "mean                  152.832801              0.938315    70.702460   \n",
       "std                    86.272234              0.521643    37.352584   \n",
       "min                     0.130000              0.000275     0.130000   \n",
       "25%                    85.390000              0.533519    42.487500   \n",
       "50%                   146.000000              0.905684    68.785000   \n",
       "75%                   211.932500              1.289307    96.440000   \n",
       "max                   494.200000              3.071434   216.390000   \n",
       "\n",
       "       fossil_weight            age  \n",
       "count    4398.000000    4398.000000  \n",
       "mean      326.655177   40586.656435  \n",
       "std       187.032333   15200.700905  \n",
       "min         0.620000    4208.000000  \n",
       "25%       181.047500   29766.250000  \n",
       "50%       308.260000   39567.000000  \n",
       "75%       455.520000   50550.500000  \n",
       "max      1010.090000  103079.000000  "
      ]
     },
     "execution_count": 12,
     "metadata": {},
     "output_type": "execute_result"
    }
   ],
   "source": [
    "train_df.describe()"
   ]
  },
  {
   "cell_type": "markdown",
   "metadata": {},
   "source": [
    "The `.describe()` function here reveals that there are no extremely large ranges among any of the numerical values meaning that the values in the age column will likely not have to be normalized."
   ]
  },
  {
   "cell_type": "markdown",
   "metadata": {},
   "source": [
    "## Splitting Targets and Predictors"
   ]
  },
  {
   "cell_type": "code",
   "execution_count": 13,
   "metadata": {},
   "outputs": [],
   "source": [
    "# Define a function to split the target and the Predictors/features\n",
    "def get_predictors_and_target(data):\n",
    "    # Define a list of columns \n",
    "    data_columns = data.columns\n",
    "\n",
    "    # Eliminate Age from the list as that is the target and the rest are features\n",
    "    predictors = data[data_columns[data_columns != 'age']]\n",
    "\n",
    "    # Set the target series \n",
    "    target = data['age'] \n",
    "    \n",
    "    return predictors, target"
   ]
  },
  {
   "cell_type": "code",
   "execution_count": 14,
   "metadata": {},
   "outputs": [],
   "source": [
    "# Split the training and test sets\n",
    "test_predictors, test_target = get_predictors_and_target(test_df)\n",
    "train_predictors, train_target = get_predictors_and_target(train_df)"
   ]
  },
  {
   "cell_type": "markdown",
   "metadata": {},
   "source": [
    "## Encode the Categorical Variables Into Numerical Ones"
   ]
  },
  {
   "cell_type": "markdown",
   "metadata": {},
   "source": [
    "The categorical variables as can be seen by the `train_df.head()` output and the `test_df.head()` output are `['paleomagnetic_data', 'inclusion_of_other_fossils','geological_period', 'surrounding_rock_type', 'stratigraphic_position']`. I decided to use both the `OneHotEncoder()` function and the `LabelEncoder()` function as the both have specific positives and negatives and can apply to specific variables from this group. `OneHotEncoder()`seems best poised to be used with the binary variables in this set, while the `LabelEncoder()` seems to be best used for the categories that have more than 2 options."
   ]
  },
  {
   "cell_type": "code",
   "execution_count": 15,
   "metadata": {},
   "outputs": [],
   "source": [
    "# Initialize the method\n",
    "ohe = OneHotEncoder(sparse_output=False)\n",
    "\n",
    "# Create the Function\n",
    "def ohe_function(features, ohe):\n",
    "    # Define Categorical Functions\n",
    "    categorical_columns = ['paleomagnetic_data', 'inclusion_of_other_fossils']\n",
    "\n",
    "    # Transform the Features\n",
    "    encoded_features = ohe.fit_transform(features[categorical_columns])\n",
    "    encoded_df = pd.DataFrame(encoded_features, columns=ohe.get_feature_names_out(categorical_columns))\n",
    "\n",
    "    # Return Output\n",
    "    return encoded_df"
   ]
  },
  {
   "cell_type": "code",
   "execution_count": 16,
   "metadata": {},
   "outputs": [],
   "source": [
    "# Initialize the Method\n",
    "label_encoder = LabelEncoder()\n",
    "\n",
    "# Define the function\n",
    "def encoder(features, label_encoder):\n",
    "    # Define the categorical variables \n",
    "    categorical_columns = ['geological_period', 'surrounding_rock_type', 'stratigraphic_position']\n",
    "\n",
    "    # Create for loop to interate through the array\n",
    "    for col in categorical_columns:\n",
    "        # Apply the function to each instance \n",
    "        features[col] = label_encoder.fit_transform(features[col])\n",
    "\n",
    "    # Return the output\n",
    "    return features"
   ]
  },
  {
   "cell_type": "code",
   "execution_count": 17,
   "metadata": {},
   "outputs": [
    {
     "data": {
      "text/html": [
       "<div>\n",
       "<style scoped>\n",
       "    .dataframe tbody tr th:only-of-type {\n",
       "        vertical-align: middle;\n",
       "    }\n",
       "\n",
       "    .dataframe tbody tr th {\n",
       "        vertical-align: top;\n",
       "    }\n",
       "\n",
       "    .dataframe thead th {\n",
       "        text-align: right;\n",
       "    }\n",
       "</style>\n",
       "<table border=\"1\" class=\"dataframe\">\n",
       "  <thead>\n",
       "    <tr style=\"text-align: right;\">\n",
       "      <th></th>\n",
       "      <th>uranium_lead_ratio</th>\n",
       "      <th>carbon_14_ratio</th>\n",
       "      <th>radioactive_decay_series</th>\n",
       "      <th>stratigraphic_layer_depth</th>\n",
       "      <th>geological_period</th>\n",
       "      <th>isotopic_composition</th>\n",
       "      <th>surrounding_rock_type</th>\n",
       "      <th>stratigraphic_position</th>\n",
       "      <th>fossil_size</th>\n",
       "      <th>fossil_weight</th>\n",
       "      <th>paleomagnetic_data_Normal polarity</th>\n",
       "      <th>paleomagnetic_data_Reversed polarity</th>\n",
       "      <th>inclusion_of_other_fossils_False</th>\n",
       "      <th>inclusion_of_other_fossils_True</th>\n",
       "    </tr>\n",
       "  </thead>\n",
       "  <tbody>\n",
       "    <tr>\n",
       "      <th>0</th>\n",
       "      <td>0.469986</td>\n",
       "      <td>1.000000</td>\n",
       "      <td>0.667595</td>\n",
       "      <td>29.58</td>\n",
       "      <td>Triassic</td>\n",
       "      <td>0.583560</td>\n",
       "      <td>Limestone</td>\n",
       "      <td>Bottom</td>\n",
       "      <td>120.12</td>\n",
       "      <td>73.83</td>\n",
       "      <td>1.0</td>\n",
       "      <td>0.0</td>\n",
       "      <td>1.0</td>\n",
       "      <td>0.0</td>\n",
       "    </tr>\n",
       "    <tr>\n",
       "      <th>1</th>\n",
       "      <td>0.619865</td>\n",
       "      <td>0.474208</td>\n",
       "      <td>1.218381</td>\n",
       "      <td>69.87</td>\n",
       "      <td>Cretaceous</td>\n",
       "      <td>0.942719</td>\n",
       "      <td>Shale</td>\n",
       "      <td>Middle</td>\n",
       "      <td>72.82</td>\n",
       "      <td>191.68</td>\n",
       "      <td>0.0</td>\n",
       "      <td>1.0</td>\n",
       "      <td>0.0</td>\n",
       "      <td>1.0</td>\n",
       "    </tr>\n",
       "    <tr>\n",
       "      <th>2</th>\n",
       "      <td>0.767736</td>\n",
       "      <td>0.478731</td>\n",
       "      <td>0.119801</td>\n",
       "      <td>96.38</td>\n",
       "      <td>Cretaceous</td>\n",
       "      <td>0.377531</td>\n",
       "      <td>Sandstone</td>\n",
       "      <td>Bottom</td>\n",
       "      <td>105.47</td>\n",
       "      <td>82.25</td>\n",
       "      <td>1.0</td>\n",
       "      <td>0.0</td>\n",
       "      <td>1.0</td>\n",
       "      <td>0.0</td>\n",
       "    </tr>\n",
       "    <tr>\n",
       "      <th>3</th>\n",
       "      <td>0.275121</td>\n",
       "      <td>0.400594</td>\n",
       "      <td>0.634760</td>\n",
       "      <td>134.10</td>\n",
       "      <td>Triassic</td>\n",
       "      <td>0.323820</td>\n",
       "      <td>Sandstone</td>\n",
       "      <td>Middle</td>\n",
       "      <td>94.99</td>\n",
       "      <td>47.99</td>\n",
       "      <td>1.0</td>\n",
       "      <td>0.0</td>\n",
       "      <td>0.0</td>\n",
       "      <td>1.0</td>\n",
       "    </tr>\n",
       "    <tr>\n",
       "      <th>4</th>\n",
       "      <td>0.407470</td>\n",
       "      <td>0.039705</td>\n",
       "      <td>0.824597</td>\n",
       "      <td>124.10</td>\n",
       "      <td>Triassic</td>\n",
       "      <td>1.219120</td>\n",
       "      <td>Shale</td>\n",
       "      <td>Middle</td>\n",
       "      <td>139.93</td>\n",
       "      <td>532.62</td>\n",
       "      <td>1.0</td>\n",
       "      <td>0.0</td>\n",
       "      <td>1.0</td>\n",
       "      <td>0.0</td>\n",
       "    </tr>\n",
       "  </tbody>\n",
       "</table>\n",
       "</div>"
      ],
      "text/plain": [
       "   uranium_lead_ratio  carbon_14_ratio  radioactive_decay_series  \\\n",
       "0            0.469986         1.000000                  0.667595   \n",
       "1            0.619865         0.474208                  1.218381   \n",
       "2            0.767736         0.478731                  0.119801   \n",
       "3            0.275121         0.400594                  0.634760   \n",
       "4            0.407470         0.039705                  0.824597   \n",
       "\n",
       "   stratigraphic_layer_depth geological_period  isotopic_composition  \\\n",
       "0                      29.58          Triassic              0.583560   \n",
       "1                      69.87        Cretaceous              0.942719   \n",
       "2                      96.38        Cretaceous              0.377531   \n",
       "3                     134.10          Triassic              0.323820   \n",
       "4                     124.10          Triassic              1.219120   \n",
       "\n",
       "  surrounding_rock_type stratigraphic_position  fossil_size  fossil_weight  \\\n",
       "0             Limestone                 Bottom       120.12          73.83   \n",
       "1                 Shale                 Middle        72.82         191.68   \n",
       "2             Sandstone                 Bottom       105.47          82.25   \n",
       "3             Sandstone                 Middle        94.99          47.99   \n",
       "4                 Shale                 Middle       139.93         532.62   \n",
       "\n",
       "   paleomagnetic_data_Normal polarity  paleomagnetic_data_Reversed polarity  \\\n",
       "0                                 1.0                                   0.0   \n",
       "1                                 0.0                                   1.0   \n",
       "2                                 1.0                                   0.0   \n",
       "3                                 1.0                                   0.0   \n",
       "4                                 1.0                                   0.0   \n",
       "\n",
       "   inclusion_of_other_fossils_False  inclusion_of_other_fossils_True  \n",
       "0                               1.0                              0.0  \n",
       "1                               0.0                              1.0  \n",
       "2                               1.0                              0.0  \n",
       "3                               0.0                              1.0  \n",
       "4                               1.0                              0.0  "
      ]
     },
     "execution_count": 17,
     "metadata": {},
     "output_type": "execute_result"
    }
   ],
   "source": [
    "# Run the OneHotEncoder\n",
    "encoded_test_predictors_half = ohe_function(test_predictors, ohe)\n",
    "encoded_train_predictors_half = ohe_function(train_predictors, ohe)\n",
    "\n",
    "# Merge it with the main dataframes and then drop the columns that were used \n",
    "encoded_test_predictors_half = pd.merge(test_predictors, encoded_test_predictors_half, on=encoded_test_predictors_half.index, how='inner')\n",
    "encoded_test_predictors_half = encoded_test_predictors_half.drop(columns=['paleomagnetic_data', 'inclusion_of_other_fossils', 'key_0'])\n",
    "encoded_train_predictors_half = pd.merge(train_predictors, encoded_train_predictors_half, on=encoded_train_predictors_half.index, how='inner')\n",
    "encoded_train_predictors_half = encoded_train_predictors_half.drop(columns=['paleomagnetic_data', 'inclusion_of_other_fossils', 'key_0'])\n",
    "\n",
    "# Check results\n",
    "encoded_test_predictors_half.head()"
   ]
  },
  {
   "cell_type": "code",
   "execution_count": 18,
   "metadata": {},
   "outputs": [
    {
     "data": {
      "text/html": [
       "<div>\n",
       "<style scoped>\n",
       "    .dataframe tbody tr th:only-of-type {\n",
       "        vertical-align: middle;\n",
       "    }\n",
       "\n",
       "    .dataframe tbody tr th {\n",
       "        vertical-align: top;\n",
       "    }\n",
       "\n",
       "    .dataframe thead th {\n",
       "        text-align: right;\n",
       "    }\n",
       "</style>\n",
       "<table border=\"1\" class=\"dataframe\">\n",
       "  <thead>\n",
       "    <tr style=\"text-align: right;\">\n",
       "      <th></th>\n",
       "      <th>uranium_lead_ratio</th>\n",
       "      <th>carbon_14_ratio</th>\n",
       "      <th>radioactive_decay_series</th>\n",
       "      <th>stratigraphic_layer_depth</th>\n",
       "      <th>geological_period</th>\n",
       "      <th>isotopic_composition</th>\n",
       "      <th>surrounding_rock_type</th>\n",
       "      <th>stratigraphic_position</th>\n",
       "      <th>fossil_size</th>\n",
       "      <th>fossil_weight</th>\n",
       "      <th>paleomagnetic_data_Normal polarity</th>\n",
       "      <th>paleomagnetic_data_Reversed polarity</th>\n",
       "      <th>inclusion_of_other_fossils_False</th>\n",
       "      <th>inclusion_of_other_fossils_True</th>\n",
       "    </tr>\n",
       "  </thead>\n",
       "  <tbody>\n",
       "    <tr>\n",
       "      <th>0</th>\n",
       "      <td>0.469986</td>\n",
       "      <td>1.000000</td>\n",
       "      <td>0.667595</td>\n",
       "      <td>29.58</td>\n",
       "      <td>10</td>\n",
       "      <td>0.583560</td>\n",
       "      <td>1</td>\n",
       "      <td>0</td>\n",
       "      <td>120.12</td>\n",
       "      <td>73.83</td>\n",
       "      <td>1.0</td>\n",
       "      <td>0.0</td>\n",
       "      <td>1.0</td>\n",
       "      <td>0.0</td>\n",
       "    </tr>\n",
       "    <tr>\n",
       "      <th>1</th>\n",
       "      <td>0.619865</td>\n",
       "      <td>0.474208</td>\n",
       "      <td>1.218381</td>\n",
       "      <td>69.87</td>\n",
       "      <td>2</td>\n",
       "      <td>0.942719</td>\n",
       "      <td>3</td>\n",
       "      <td>1</td>\n",
       "      <td>72.82</td>\n",
       "      <td>191.68</td>\n",
       "      <td>0.0</td>\n",
       "      <td>1.0</td>\n",
       "      <td>0.0</td>\n",
       "      <td>1.0</td>\n",
       "    </tr>\n",
       "    <tr>\n",
       "      <th>2</th>\n",
       "      <td>0.767736</td>\n",
       "      <td>0.478731</td>\n",
       "      <td>0.119801</td>\n",
       "      <td>96.38</td>\n",
       "      <td>2</td>\n",
       "      <td>0.377531</td>\n",
       "      <td>2</td>\n",
       "      <td>0</td>\n",
       "      <td>105.47</td>\n",
       "      <td>82.25</td>\n",
       "      <td>1.0</td>\n",
       "      <td>0.0</td>\n",
       "      <td>1.0</td>\n",
       "      <td>0.0</td>\n",
       "    </tr>\n",
       "    <tr>\n",
       "      <th>3</th>\n",
       "      <td>0.275121</td>\n",
       "      <td>0.400594</td>\n",
       "      <td>0.634760</td>\n",
       "      <td>134.10</td>\n",
       "      <td>10</td>\n",
       "      <td>0.323820</td>\n",
       "      <td>2</td>\n",
       "      <td>1</td>\n",
       "      <td>94.99</td>\n",
       "      <td>47.99</td>\n",
       "      <td>1.0</td>\n",
       "      <td>0.0</td>\n",
       "      <td>0.0</td>\n",
       "      <td>1.0</td>\n",
       "    </tr>\n",
       "    <tr>\n",
       "      <th>4</th>\n",
       "      <td>0.407470</td>\n",
       "      <td>0.039705</td>\n",
       "      <td>0.824597</td>\n",
       "      <td>124.10</td>\n",
       "      <td>10</td>\n",
       "      <td>1.219120</td>\n",
       "      <td>3</td>\n",
       "      <td>1</td>\n",
       "      <td>139.93</td>\n",
       "      <td>532.62</td>\n",
       "      <td>1.0</td>\n",
       "      <td>0.0</td>\n",
       "      <td>1.0</td>\n",
       "      <td>0.0</td>\n",
       "    </tr>\n",
       "  </tbody>\n",
       "</table>\n",
       "</div>"
      ],
      "text/plain": [
       "   uranium_lead_ratio  carbon_14_ratio  radioactive_decay_series  \\\n",
       "0            0.469986         1.000000                  0.667595   \n",
       "1            0.619865         0.474208                  1.218381   \n",
       "2            0.767736         0.478731                  0.119801   \n",
       "3            0.275121         0.400594                  0.634760   \n",
       "4            0.407470         0.039705                  0.824597   \n",
       "\n",
       "   stratigraphic_layer_depth  geological_period  isotopic_composition  \\\n",
       "0                      29.58                 10              0.583560   \n",
       "1                      69.87                  2              0.942719   \n",
       "2                      96.38                  2              0.377531   \n",
       "3                     134.10                 10              0.323820   \n",
       "4                     124.10                 10              1.219120   \n",
       "\n",
       "   surrounding_rock_type  stratigraphic_position  fossil_size  fossil_weight  \\\n",
       "0                      1                       0       120.12          73.83   \n",
       "1                      3                       1        72.82         191.68   \n",
       "2                      2                       0       105.47          82.25   \n",
       "3                      2                       1        94.99          47.99   \n",
       "4                      3                       1       139.93         532.62   \n",
       "\n",
       "   paleomagnetic_data_Normal polarity  paleomagnetic_data_Reversed polarity  \\\n",
       "0                                 1.0                                   0.0   \n",
       "1                                 0.0                                   1.0   \n",
       "2                                 1.0                                   0.0   \n",
       "3                                 1.0                                   0.0   \n",
       "4                                 1.0                                   0.0   \n",
       "\n",
       "   inclusion_of_other_fossils_False  inclusion_of_other_fossils_True  \n",
       "0                               1.0                              0.0  \n",
       "1                               0.0                              1.0  \n",
       "2                               1.0                              0.0  \n",
       "3                               0.0                              1.0  \n",
       "4                               1.0                              0.0  "
      ]
     },
     "execution_count": 18,
     "metadata": {},
     "output_type": "execute_result"
    }
   ],
   "source": [
    "# Run the Label Encoder functions\n",
    "encoded_train_predictors = encoder(encoded_train_predictors_half, label_encoder)\n",
    "encoded_test_predictors = encoder(encoded_test_predictors_half, label_encoder)\n",
    "\n",
    "# Check work\n",
    "encoded_test_predictors.head()"
   ]
  },
  {
   "cell_type": "markdown",
   "metadata": {},
   "source": [
    "# See Correlation of each Feature with the Target"
   ]
  },
  {
   "cell_type": "code",
   "execution_count": 19,
   "metadata": {},
   "outputs": [
    {
     "data": {
      "image/png": "[encoded data removed]",
      "text/plain": [
       "<Figure size 1000x600 with 1 Axes>"
      ]
     },
     "metadata": {},
     "output_type": "display_data"
    }
   ],
   "source": [
    "# Calculate the correlation of each DataFrame column with the Series\n",
    "correlations = encoded_train_predictors.apply(lambda col: col.corr(train_target))\n",
    "\n",
    "# Visualize the correlations using a bar plot\n",
    "correlations.plot(kind='bar', figsize=(10, 6), color='skyblue')\n",
    "plt.title('Correlation Without Normalization')\n",
    "plt.xlabel('DataFrame Columns')\n",
    "plt.ylabel('Correlation Coefficient')\n",
    "plt.show()"
   ]
  },
  {
   "cell_type": "markdown",
   "metadata": {},
   "source": [
    "## See Scatter Plot of lowest correlation (Stratigraphic_position) with the target"
   ]
  },
  {
   "cell_type": "code",
   "execution_count": 20,
   "metadata": {},
   "outputs": [
    {
     "name": "stderr",
     "output_type": "stream",
     "text": [
      "C:\\Users\\sdelo\\AppData\\Local\\Temp\\ipykernel_23620\\1452091499.py:5: UserWarning: No data for colormapping provided via 'c'. Parameters 'vmin', 'vmax' will be ignored\n",
      "  ax.scatter(encoded_train_predictors['stratigraphic_position'], train_target, vmin=0, vmax=100)\n"
     ]
    },
    {
     "data": {
      "image/png": "[encoded data removed]",
      "text/plain": [
       "<Figure size 640x480 with 1 Axes>"
      ]
     },
     "metadata": {},
     "output_type": "display_data"
    }
   ],
   "source": [
    "# Initialize Figure\n",
    "fig, ax = plt.subplots()\n",
    "\n",
    "# Add data points\n",
    "ax.scatter(encoded_train_predictors['stratigraphic_position'], train_target, vmin=0, vmax=100)\n",
    "\n",
    "# Plot\n",
    "plt.show()"
   ]
  },
  {
   "cell_type": "markdown",
   "metadata": {},
   "source": [
    "## Feature Normalization"
   ]
  },
  {
   "cell_type": "code",
   "execution_count": 21,
   "metadata": {},
   "outputs": [],
   "source": [
    "# Define normalization function\n",
    "def normalize(features):\n",
    "    # Formula to normalize\n",
    "    features_norm = (features - features.mean()) / features.std()\n",
    "\n",
    "    # Return output\n",
    "    return features_norm"
   ]
  },
  {
   "cell_type": "code",
   "execution_count": 22,
   "metadata": {},
   "outputs": [],
   "source": [
    "# Normalize features\n",
    "normal_test_predictors = normalize(encoded_test_predictors)\n",
    "normal_train_predictors = normalize(encoded_train_predictors)"
   ]
  },
  {
   "cell_type": "markdown",
   "metadata": {},
   "source": [
    "## Keras Regression"
   ]
  },
  {
   "cell_type": "code",
   "execution_count": 23,
   "metadata": {},
   "outputs": [],
   "source": [
    "# Get number of columns for the input shape\n",
    "n_cols_train = normal_train_predictors.shape[1]\n",
    "n_cols_test = normal_test_predictors.shape[1]"
   ]
  },
  {
   "cell_type": "code",
   "execution_count": 24,
   "metadata": {},
   "outputs": [
    {
     "data": {
      "text/plain": [
       "14"
      ]
     },
     "execution_count": 24,
     "metadata": {},
     "output_type": "execute_result"
    }
   ],
   "source": [
    "# Print it\n",
    "n_cols_train"
   ]
  },
  {
   "cell_type": "code",
   "execution_count": 25,
   "metadata": {},
   "outputs": [],
   "source": [
    "# Define regression model\n",
    "def regression_model():\n",
    "    # Initialize model\n",
    "    model = Sequential()\n",
    "\n",
    "    # Add layers\n",
    "    model.add(Dense(32, activation='relu', input_shape=(n_cols_train,)))\n",
    "    model.add(Dense(64, activation='relu'))\n",
    "    model.add(Dense(64, activation='relu'))\n",
    "    model.add(Dense(32, activation='relu'))\n",
    "    model.add(Dense(10, activation='relu'))\n",
    "    model.add(Dense(10, activation='relu'))\n",
    "    model.add(Dense(1))\n",
    "    \n",
    "    # Compile model\n",
    "    model.compile(optimizer='adam', loss='mean_squared_error')\n",
    "\n",
    "    # Return the model completed \n",
    "    return model"
   ]
  },
  {
   "cell_type": "code",
   "execution_count": 26,
   "metadata": {},
   "outputs": [
    {
     "name": "stdout",
     "output_type": "stream",
     "text": [
      "WARNING:tensorflow:From c:\\Users\\sdelo\\AppData\\Local\\Programs\\Python\\Python311\\Lib\\site-packages\\keras\\src\\backend.py:873: The name tf.get_default_graph is deprecated. Please use tf.compat.v1.get_default_graph instead.\n",
      "\n",
      "WARNING:tensorflow:From c:\\Users\\sdelo\\AppData\\Local\\Programs\\Python\\Python311\\Lib\\site-packages\\keras\\src\\optimizers\\__init__.py:309: The name tf.train.Optimizer is deprecated. Please use tf.compat.v1.train.Optimizer instead.\n",
      "\n",
      "Epoch 1/50\n",
      "WARNING:tensorflow:From c:\\Users\\sdelo\\AppData\\Local\\Programs\\Python\\Python311\\Lib\\site-packages\\keras\\src\\utils\\tf_utils.py:492: The name tf.ragged.RaggedTensorValue is deprecated. Please use tf.compat.v1.ragged.RaggedTensorValue instead.\n",
      "\n",
      "97/97 - 6s - loss: 1868568192.0000 - val_loss: 1622232704.0000 - 6s/epoch - 59ms/step\n",
      "Epoch 2/50\n",
      "97/97 - 1s - loss: 506916032.0000 - val_loss: 46302100.0000 - 705ms/epoch - 7ms/step\n",
      "Epoch 3/50\n",
      "97/97 - 1s - loss: 30944316.0000 - val_loss: 23652046.0000 - 699ms/epoch - 7ms/step\n",
      "Epoch 4/50\n",
      "97/97 - 1s - loss: 20525422.0000 - val_loss: 19379420.0000 - 756ms/epoch - 8ms/step\n",
      "Epoch 5/50\n",
      "97/97 - 1s - loss: 17871246.0000 - val_loss: 17528944.0000 - 687ms/epoch - 7ms/step\n",
      "Epoch 6/50\n",
      "97/97 - 1s - loss: 15736338.0000 - val_loss: 15349402.0000 - 710ms/epoch - 7ms/step\n",
      "Epoch 7/50\n",
      "97/97 - 1s - loss: 14169774.0000 - val_loss: 14044033.0000 - 684ms/epoch - 7ms/step\n",
      "Epoch 8/50\n",
      "97/97 - 1s - loss: 12846345.0000 - val_loss: 12633463.0000 - 741ms/epoch - 8ms/step\n",
      "Epoch 9/50\n",
      "97/97 - 1s - loss: 11750232.0000 - val_loss: 11638647.0000 - 712ms/epoch - 7ms/step\n",
      "Epoch 10/50\n",
      "97/97 - 1s - loss: 10815006.0000 - val_loss: 11075041.0000 - 691ms/epoch - 7ms/step\n",
      "Epoch 11/50\n",
      "97/97 - 1s - loss: 10012100.0000 - val_loss: 10303493.0000 - 680ms/epoch - 7ms/step\n",
      "Epoch 12/50\n",
      "97/97 - 1s - loss: 9368106.0000 - val_loss: 9573540.0000 - 762ms/epoch - 8ms/step\n",
      "Epoch 13/50\n",
      "97/97 - 1s - loss: 8743178.0000 - val_loss: 8844950.0000 - 791ms/epoch - 8ms/step\n",
      "Epoch 14/50\n",
      "97/97 - 1s - loss: 8294627.0000 - val_loss: 8298266.5000 - 822ms/epoch - 8ms/step\n",
      "Epoch 15/50\n",
      "97/97 - 1s - loss: 7763676.0000 - val_loss: 7900464.0000 - 841ms/epoch - 9ms/step\n",
      "Epoch 16/50\n",
      "97/97 - 1s - loss: 7353785.0000 - val_loss: 7511196.5000 - 763ms/epoch - 8ms/step\n",
      "Epoch 17/50\n",
      "97/97 - 1s - loss: 6907530.5000 - val_loss: 7225842.0000 - 780ms/epoch - 8ms/step\n",
      "Epoch 18/50\n",
      "97/97 - 1s - loss: 6549083.5000 - val_loss: 6729028.5000 - 729ms/epoch - 8ms/step\n",
      "Epoch 19/50\n",
      "97/97 - 1s - loss: 6314059.0000 - val_loss: 6818681.0000 - 772ms/epoch - 8ms/step\n",
      "Epoch 20/50\n",
      "97/97 - 1s - loss: 5833260.0000 - val_loss: 5990387.0000 - 760ms/epoch - 8ms/step\n",
      "Epoch 21/50\n",
      "97/97 - 1s - loss: 5595236.5000 - val_loss: 5659801.5000 - 719ms/epoch - 7ms/step\n",
      "Epoch 22/50\n",
      "97/97 - 1s - loss: 5252761.5000 - val_loss: 5402797.0000 - 755ms/epoch - 8ms/step\n",
      "Epoch 23/50\n",
      "97/97 - 1s - loss: 5024474.5000 - val_loss: 5182654.0000 - 705ms/epoch - 7ms/step\n",
      "Epoch 24/50\n",
      "97/97 - 1s - loss: 4746159.5000 - val_loss: 4872171.0000 - 734ms/epoch - 8ms/step\n",
      "Epoch 25/50\n",
      "97/97 - 1s - loss: 4513292.0000 - val_loss: 4555041.5000 - 693ms/epoch - 7ms/step\n",
      "Epoch 26/50\n",
      "97/97 - 1s - loss: 4281463.0000 - val_loss: 4396294.0000 - 752ms/epoch - 8ms/step\n",
      "Epoch 27/50\n",
      "97/97 - 1s - loss: 4121157.5000 - val_loss: 4187406.2500 - 738ms/epoch - 8ms/step\n",
      "Epoch 28/50\n",
      "97/97 - 1s - loss: 3870873.2500 - val_loss: 3992797.7500 - 653ms/epoch - 7ms/step\n",
      "Epoch 29/50\n",
      "97/97 - 0s - loss: 3740692.0000 - val_loss: 3905684.2500 - 316ms/epoch - 3ms/step\n",
      "Epoch 30/50\n",
      "97/97 - 0s - loss: 3676588.5000 - val_loss: 3859535.2500 - 349ms/epoch - 4ms/step\n",
      "Epoch 31/50\n",
      "97/97 - 0s - loss: 3472214.7500 - val_loss: 3827480.7500 - 455ms/epoch - 5ms/step\n",
      "Epoch 32/50\n",
      "97/97 - 0s - loss: 3438734.7500 - val_loss: 3610541.0000 - 398ms/epoch - 4ms/step\n",
      "Epoch 33/50\n",
      "97/97 - 0s - loss: 3364751.5000 - val_loss: 3424067.5000 - 302ms/epoch - 3ms/step\n",
      "Epoch 34/50\n",
      "97/97 - 0s - loss: 3217819.7500 - val_loss: 3365004.7500 - 258ms/epoch - 3ms/step\n",
      "Epoch 35/50\n",
      "97/97 - 0s - loss: 3178488.2500 - val_loss: 3285735.2500 - 284ms/epoch - 3ms/step\n",
      "Epoch 36/50\n",
      "97/97 - 0s - loss: 3199601.7500 - val_loss: 3335597.5000 - 314ms/epoch - 3ms/step\n",
      "Epoch 37/50\n",
      "97/97 - 0s - loss: 3086780.2500 - val_loss: 3244941.7500 - 468ms/epoch - 5ms/step\n",
      "Epoch 38/50\n",
      "97/97 - 0s - loss: 3013887.7500 - val_loss: 3785273.7500 - 295ms/epoch - 3ms/step\n",
      "Epoch 39/50\n",
      "97/97 - 0s - loss: 3110432.0000 - val_loss: 3200474.5000 - 276ms/epoch - 3ms/step\n",
      "Epoch 40/50\n",
      "97/97 - 0s - loss: 2905541.0000 - val_loss: 3414362.5000 - 250ms/epoch - 3ms/step\n",
      "Epoch 41/50\n",
      "97/97 - 0s - loss: 2920495.0000 - val_loss: 3045740.7500 - 263ms/epoch - 3ms/step\n",
      "Epoch 42/50\n",
      "97/97 - 0s - loss: 2874494.7500 - val_loss: 3039937.7500 - 285ms/epoch - 3ms/step\n",
      "Epoch 43/50\n",
      "97/97 - 0s - loss: 2873265.2500 - val_loss: 2968387.2500 - 315ms/epoch - 3ms/step\n",
      "Epoch 44/50\n",
      "97/97 - 0s - loss: 2793491.2500 - val_loss: 3068384.7500 - 333ms/epoch - 3ms/step\n",
      "Epoch 45/50\n",
      "97/97 - 0s - loss: 2758461.0000 - val_loss: 3083267.5000 - 275ms/epoch - 3ms/step\n",
      "Epoch 46/50\n",
      "97/97 - 0s - loss: 2744948.7500 - val_loss: 3100368.7500 - 264ms/epoch - 3ms/step\n",
      "Epoch 47/50\n",
      "97/97 - 0s - loss: 2796063.2500 - val_loss: 2948035.5000 - 272ms/epoch - 3ms/step\n",
      "Epoch 48/50\n",
      "97/97 - 0s - loss: 2686642.2500 - val_loss: 2890692.0000 - 269ms/epoch - 3ms/step\n",
      "Epoch 49/50\n",
      "97/97 - 0s - loss: 2811420.5000 - val_loss: 3254176.2500 - 262ms/epoch - 3ms/step\n",
      "Epoch 50/50\n",
      "97/97 - 0s - loss: 2788823.2500 - val_loss: 2883426.5000 - 276ms/epoch - 3ms/step\n",
      "35/35 [==============================] - 0s 1ms/step\n",
      "5580733.4911044985\n"
     ]
    }
   ],
   "source": [
    "# Initialize model\n",
    "regression = regression_model()\n",
    "\n",
    "# Fit data\n",
    "regression.fit(normal_train_predictors, train_target, validation_split=0.3, epochs=50, verbose=2)\n",
    "\n",
    "# Predict values\n",
    "predictions = regression.predict(normal_test_predictors)\n",
    "\n",
    "# Get Error\n",
    "error = mean_squared_error(y_true=test_target, y_pred=predictions)\n",
    "print(error)"
   ]
  },
  {
   "cell_type": "markdown",
   "metadata": {},
   "source": [
    "## Gradient Boost "
   ]
  },
  {
   "cell_type": "code",
   "execution_count": 27,
   "metadata": {},
   "outputs": [
    {
     "data": {
      "text/plain": [
       "4698167.223529762"
      ]
     },
     "execution_count": 27,
     "metadata": {},
     "output_type": "execute_result"
    }
   ],
   "source": [
    "# Initialize and train the Gradient Boosting Regressor model\n",
    "gb_model = GradientBoostingRegressor(n_estimators=100, learning_rate=0.1, max_depth=3, random_state=99)\n",
    "gb_model.fit(normal_train_predictors, train_target)\n",
    "\n",
    "# Make predictions\n",
    "y_pred_gb = gb_model.predict(normal_test_predictors)\n",
    "\n",
    "# Evaluate the model\n",
    "mse_gb = mean_squared_error(test_target, y_pred_gb)\n",
    "\n",
    "# MSE\n",
    "mse_gb"
   ]
  },
  {
   "cell_type": "markdown",
   "metadata": {},
   "source": [
    "## Random Forest Regressor "
   ]
  },
  {
   "cell_type": "code",
   "execution_count": 28,
   "metadata": {},
   "outputs": [
    {
     "data": {
      "text/plain": [
       "7451837.155708273"
      ]
     },
     "execution_count": 28,
     "metadata": {},
     "output_type": "execute_result"
    }
   ],
   "source": [
    "# Initialize Model\n",
    "model = RandomForestRegressor(n_estimators=100, random_state=42)\n",
    "\n",
    "# Fit model\n",
    "model.fit(normal_train_predictors, train_target)\n",
    "predictions = model.predict(normal_test_predictors)\n",
    "\n",
    "# Get error\n",
    "mse = mean_squared_error(test_target, predictions)\n",
    "mse"
   ]
  },
  {
   "cell_type": "markdown",
   "metadata": {},
   "source": [
    "## Normalized Target"
   ]
  },
  {
   "cell_type": "markdown",
   "metadata": {},
   "source": [
    "Since the targets are not that far apart as was shown in the `.summarize()` function output this is not necessary, but I wanted to experiment what the change would do to the error. "
   ]
  },
  {
   "cell_type": "code",
   "execution_count": 29,
   "metadata": {},
   "outputs": [],
   "source": [
    "# Reuse the noramlize function \n",
    "normal_test_target = normalize(test_target)\n",
    "normal_train_target = normalize(train_target)"
   ]
  },
  {
   "cell_type": "markdown",
   "metadata": {},
   "source": [
    "## Keras Regression with Normalized Target"
   ]
  },
  {
   "cell_type": "code",
   "execution_count": 30,
   "metadata": {},
   "outputs": [
    {
     "name": "stdout",
     "output_type": "stream",
     "text": [
      "Epoch 1/50\n",
      "97/97 - 2s - loss: 0.4338 - val_loss: 0.0936 - 2s/epoch - 18ms/step\n",
      "Epoch 2/50\n",
      "97/97 - 0s - loss: 0.0667 - val_loss: 0.0579 - 273ms/epoch - 3ms/step\n",
      "Epoch 3/50\n",
      "97/97 - 0s - loss: 0.0397 - val_loss: 0.0382 - 236ms/epoch - 2ms/step\n",
      "Epoch 4/50\n",
      "97/97 - 0s - loss: 0.0314 - val_loss: 0.0367 - 247ms/epoch - 3ms/step\n",
      "Epoch 5/50\n",
      "97/97 - 0s - loss: 0.0271 - val_loss: 0.0312 - 266ms/epoch - 3ms/step\n",
      "Epoch 6/50\n",
      "97/97 - 0s - loss: 0.0228 - val_loss: 0.0253 - 251ms/epoch - 3ms/step\n",
      "Epoch 7/50\n",
      "97/97 - 0s - loss: 0.0204 - val_loss: 0.0249 - 256ms/epoch - 3ms/step\n",
      "Epoch 8/50\n",
      "97/97 - 0s - loss: 0.0185 - val_loss: 0.0240 - 251ms/epoch - 3ms/step\n",
      "Epoch 9/50\n",
      "97/97 - 0s - loss: 0.0168 - val_loss: 0.0228 - 281ms/epoch - 3ms/step\n",
      "Epoch 10/50\n",
      "97/97 - 0s - loss: 0.0171 - val_loss: 0.0206 - 264ms/epoch - 3ms/step\n",
      "Epoch 11/50\n",
      "97/97 - 0s - loss: 0.0147 - val_loss: 0.0296 - 248ms/epoch - 3ms/step\n",
      "Epoch 12/50\n",
      "97/97 - 0s - loss: 0.0142 - val_loss: 0.0218 - 262ms/epoch - 3ms/step\n",
      "Epoch 13/50\n",
      "97/97 - 0s - loss: 0.0129 - val_loss: 0.0185 - 265ms/epoch - 3ms/step\n",
      "Epoch 14/50\n",
      "97/97 - 0s - loss: 0.0130 - val_loss: 0.0176 - 255ms/epoch - 3ms/step\n",
      "Epoch 15/50\n",
      "97/97 - 0s - loss: 0.0117 - val_loss: 0.0181 - 278ms/epoch - 3ms/step\n",
      "Epoch 16/50\n",
      "97/97 - 0s - loss: 0.0118 - val_loss: 0.0197 - 259ms/epoch - 3ms/step\n",
      "Epoch 17/50\n",
      "97/97 - 0s - loss: 0.0113 - val_loss: 0.0169 - 261ms/epoch - 3ms/step\n",
      "Epoch 18/50\n",
      "97/97 - 0s - loss: 0.0124 - val_loss: 0.0181 - 258ms/epoch - 3ms/step\n",
      "Epoch 19/50\n",
      "97/97 - 0s - loss: 0.0103 - val_loss: 0.0178 - 254ms/epoch - 3ms/step\n",
      "Epoch 20/50\n",
      "97/97 - 0s - loss: 0.0110 - val_loss: 0.0162 - 251ms/epoch - 3ms/step\n",
      "Epoch 21/50\n",
      "97/97 - 0s - loss: 0.0095 - val_loss: 0.0162 - 263ms/epoch - 3ms/step\n",
      "Epoch 22/50\n",
      "97/97 - 0s - loss: 0.0092 - val_loss: 0.0218 - 257ms/epoch - 3ms/step\n",
      "Epoch 23/50\n",
      "97/97 - 0s - loss: 0.0095 - val_loss: 0.0185 - 268ms/epoch - 3ms/step\n",
      "Epoch 24/50\n",
      "97/97 - 0s - loss: 0.0093 - val_loss: 0.0157 - 257ms/epoch - 3ms/step\n",
      "Epoch 25/50\n",
      "97/97 - 0s - loss: 0.0093 - val_loss: 0.0170 - 267ms/epoch - 3ms/step\n",
      "Epoch 26/50\n",
      "97/97 - 0s - loss: 0.0090 - val_loss: 0.0164 - 467ms/epoch - 5ms/step\n",
      "Epoch 27/50\n",
      "97/97 - 0s - loss: 0.0081 - val_loss: 0.0169 - 249ms/epoch - 3ms/step\n",
      "Epoch 28/50\n",
      "97/97 - 0s - loss: 0.0086 - val_loss: 0.0174 - 264ms/epoch - 3ms/step\n",
      "Epoch 29/50\n",
      "97/97 - 0s - loss: 0.0088 - val_loss: 0.0156 - 258ms/epoch - 3ms/step\n",
      "Epoch 30/50\n",
      "97/97 - 0s - loss: 0.0082 - val_loss: 0.0168 - 289ms/epoch - 3ms/step\n",
      "Epoch 31/50\n",
      "97/97 - 0s - loss: 0.0081 - val_loss: 0.0190 - 265ms/epoch - 3ms/step\n",
      "Epoch 32/50\n",
      "97/97 - 0s - loss: 0.0074 - val_loss: 0.0195 - 270ms/epoch - 3ms/step\n",
      "Epoch 33/50\n",
      "97/97 - 0s - loss: 0.0082 - val_loss: 0.0183 - 253ms/epoch - 3ms/step\n",
      "Epoch 34/50\n",
      "97/97 - 0s - loss: 0.0081 - val_loss: 0.0203 - 253ms/epoch - 3ms/step\n",
      "Epoch 35/50\n",
      "97/97 - 0s - loss: 0.0074 - val_loss: 0.0163 - 260ms/epoch - 3ms/step\n",
      "Epoch 36/50\n",
      "97/97 - 0s - loss: 0.0072 - val_loss: 0.0151 - 250ms/epoch - 3ms/step\n",
      "Epoch 37/50\n",
      "97/97 - 0s - loss: 0.0073 - val_loss: 0.0209 - 257ms/epoch - 3ms/step\n",
      "Epoch 38/50\n",
      "97/97 - 0s - loss: 0.0083 - val_loss: 0.0170 - 266ms/epoch - 3ms/step\n",
      "Epoch 39/50\n",
      "97/97 - 0s - loss: 0.0068 - val_loss: 0.0174 - 252ms/epoch - 3ms/step\n",
      "Epoch 40/50\n",
      "97/97 - 0s - loss: 0.0069 - val_loss: 0.0169 - 266ms/epoch - 3ms/step\n",
      "Epoch 41/50\n",
      "97/97 - 0s - loss: 0.0067 - val_loss: 0.0162 - 261ms/epoch - 3ms/step\n",
      "Epoch 42/50\n",
      "97/97 - 0s - loss: 0.0072 - val_loss: 0.0164 - 256ms/epoch - 3ms/step\n",
      "Epoch 43/50\n",
      "97/97 - 0s - loss: 0.0072 - val_loss: 0.0183 - 264ms/epoch - 3ms/step\n",
      "Epoch 44/50\n",
      "97/97 - 0s - loss: 0.0069 - val_loss: 0.0157 - 262ms/epoch - 3ms/step\n",
      "Epoch 45/50\n",
      "97/97 - 0s - loss: 0.0065 - val_loss: 0.0171 - 265ms/epoch - 3ms/step\n",
      "Epoch 46/50\n",
      "97/97 - 0s - loss: 0.0070 - val_loss: 0.0158 - 274ms/epoch - 3ms/step\n",
      "Epoch 47/50\n",
      "97/97 - 0s - loss: 0.0064 - val_loss: 0.0180 - 273ms/epoch - 3ms/step\n",
      "Epoch 48/50\n",
      "97/97 - 0s - loss: 0.0057 - val_loss: 0.0168 - 255ms/epoch - 3ms/step\n",
      "Epoch 49/50\n",
      "97/97 - 0s - loss: 0.0060 - val_loss: 0.0189 - 312ms/epoch - 3ms/step\n",
      "Epoch 50/50\n",
      "97/97 - 0s - loss: 0.0058 - val_loss: 0.0179 - 308ms/epoch - 3ms/step\n",
      "35/35 [==============================] - 0s 1ms/step\n"
     ]
    },
    {
     "data": {
      "text/plain": [
       "0.01979113720410458"
      ]
     },
     "execution_count": 30,
     "metadata": {},
     "output_type": "execute_result"
    }
   ],
   "source": [
    "# Initialize the function \n",
    "regression_both_normal = regression_model()\n",
    "\n",
    "# Fit the function\n",
    "regression_both_normal.fit(normal_train_predictors, normal_train_target, validation_split=0.3, epochs=50, verbose=2)\n",
    "predictions_both_normal = regression_both_normal.predict(normal_test_predictors)\n",
    "\n",
    "# Get Error\n",
    "error_both_normal = mean_squared_error(y_true=normal_test_target, y_pred=predictions_both_normal)\n",
    "error_both_normal"
   ]
  },
  {
   "cell_type": "markdown",
   "metadata": {},
   "source": [
    "## GB Model with Normalized Target"
   ]
  },
  {
   "cell_type": "code",
   "execution_count": 31,
   "metadata": {},
   "outputs": [
    {
     "data": {
      "text/plain": [
       "0.014040134183034321"
      ]
     },
     "execution_count": 31,
     "metadata": {},
     "output_type": "execute_result"
    }
   ],
   "source": [
    "# Initialize model\n",
    "gb_model = GradientBoostingRegressor(n_estimators=100, learning_rate=0.1, max_depth=3, random_state=99)\n",
    "\n",
    "# fit model\n",
    "gb_model.fit(normal_train_predictors, normal_train_target)\n",
    "\n",
    "# Make predictions\n",
    "y_pred_gb = gb_model.predict(normal_test_predictors)\n",
    "\n",
    "# Get Error\n",
    "mse_gb = mean_squared_error(normal_test_target, y_pred_gb)\n",
    "mse_gb"
   ]
  },
  {
   "cell_type": "markdown",
   "metadata": {},
   "source": [
    "## Random Forest with Normalized Target"
   ]
  },
  {
   "cell_type": "code",
   "execution_count": 32,
   "metadata": {},
   "outputs": [
    {
     "data": {
      "text/plain": [
       "0.025872609583191708"
      ]
     },
     "execution_count": 32,
     "metadata": {},
     "output_type": "execute_result"
    }
   ],
   "source": [
    "# Initialize Model\n",
    "model = RandomForestRegressor(n_estimators=100, random_state=42)\n",
    "\n",
    "# Fit and predict with model\n",
    "model.fit(normal_train_predictors, normal_train_target)\n",
    "predictions = model.predict(normal_test_predictors)\n",
    "\n",
    "# Get error\n",
    "mse = mean_squared_error(normal_test_target, predictions)\n",
    "mse"
   ]
  },
  {
   "cell_type": "markdown",
   "metadata": {},
   "source": [
    "## Keras Regression with no normalization"
   ]
  },
  {
   "cell_type": "code",
   "execution_count": 33,
   "metadata": {},
   "outputs": [
    {
     "name": "stdout",
     "output_type": "stream",
     "text": [
      "Epoch 1/50\n",
      "97/97 - 2s - loss: 1527609984.0000 - val_loss: 509214528.0000 - 2s/epoch - 19ms/step\n",
      "Epoch 2/50\n",
      "97/97 - 0s - loss: 380875136.0000 - val_loss: 329590400.0000 - 260ms/epoch - 3ms/step\n",
      "Epoch 3/50\n",
      "97/97 - 0s - loss: 303416960.0000 - val_loss: 301723872.0000 - 287ms/epoch - 3ms/step\n",
      "Epoch 4/50\n",
      "97/97 - 0s - loss: 289814976.0000 - val_loss: 290927200.0000 - 349ms/epoch - 4ms/step\n",
      "Epoch 5/50\n",
      "97/97 - 0s - loss: 286483904.0000 - val_loss: 287533728.0000 - 301ms/epoch - 3ms/step\n",
      "Epoch 6/50\n",
      "97/97 - 0s - loss: 284658624.0000 - val_loss: 285080896.0000 - 259ms/epoch - 3ms/step\n",
      "Epoch 7/50\n",
      "97/97 - 0s - loss: 280997312.0000 - val_loss: 282408960.0000 - 262ms/epoch - 3ms/step\n",
      "Epoch 8/50\n",
      "97/97 - 0s - loss: 279606400.0000 - val_loss: 283175008.0000 - 248ms/epoch - 3ms/step\n",
      "Epoch 9/50\n",
      "97/97 - 0s - loss: 276977472.0000 - val_loss: 279375072.0000 - 278ms/epoch - 3ms/step\n",
      "Epoch 10/50\n",
      "97/97 - 0s - loss: 273993376.0000 - val_loss: 278055232.0000 - 251ms/epoch - 3ms/step\n",
      "Epoch 11/50\n",
      "97/97 - 0s - loss: 274248160.0000 - val_loss: 273214944.0000 - 267ms/epoch - 3ms/step\n",
      "Epoch 12/50\n",
      "97/97 - 0s - loss: 269192768.0000 - val_loss: 270654592.0000 - 259ms/epoch - 3ms/step\n",
      "Epoch 13/50\n",
      "97/97 - 0s - loss: 266224720.0000 - val_loss: 273367968.0000 - 270ms/epoch - 3ms/step\n",
      "Epoch 14/50\n",
      "97/97 - 0s - loss: 267036352.0000 - val_loss: 272279840.0000 - 248ms/epoch - 3ms/step\n",
      "Epoch 15/50\n",
      "97/97 - 0s - loss: 261274000.0000 - val_loss: 263734512.0000 - 266ms/epoch - 3ms/step\n",
      "Epoch 16/50\n",
      "97/97 - 0s - loss: 258203424.0000 - val_loss: 259256848.0000 - 265ms/epoch - 3ms/step\n",
      "Epoch 17/50\n",
      "97/97 - 0s - loss: 254226720.0000 - val_loss: 262232176.0000 - 263ms/epoch - 3ms/step\n",
      "Epoch 18/50\n",
      "97/97 - 0s - loss: 252587696.0000 - val_loss: 251158832.0000 - 256ms/epoch - 3ms/step\n",
      "Epoch 19/50\n",
      "97/97 - 0s - loss: 245955632.0000 - val_loss: 252888448.0000 - 260ms/epoch - 3ms/step\n",
      "Epoch 20/50\n",
      "97/97 - 0s - loss: 244429536.0000 - val_loss: 243931696.0000 - 262ms/epoch - 3ms/step\n",
      "Epoch 21/50\n",
      "97/97 - 0s - loss: 238772160.0000 - val_loss: 241248496.0000 - 267ms/epoch - 3ms/step\n",
      "Epoch 22/50\n",
      "97/97 - 0s - loss: 235637600.0000 - val_loss: 234781536.0000 - 251ms/epoch - 3ms/step\n",
      "Epoch 23/50\n",
      "97/97 - 0s - loss: 230399872.0000 - val_loss: 237366720.0000 - 275ms/epoch - 3ms/step\n",
      "Epoch 24/50\n",
      "97/97 - 0s - loss: 226341840.0000 - val_loss: 224044096.0000 - 267ms/epoch - 3ms/step\n",
      "Epoch 25/50\n",
      "97/97 - 0s - loss: 218505024.0000 - val_loss: 218412720.0000 - 257ms/epoch - 3ms/step\n",
      "Epoch 26/50\n",
      "97/97 - 0s - loss: 213777168.0000 - val_loss: 213216832.0000 - 247ms/epoch - 3ms/step\n",
      "Epoch 27/50\n",
      "97/97 - 0s - loss: 207268720.0000 - val_loss: 204470128.0000 - 252ms/epoch - 3ms/step\n",
      "Epoch 28/50\n",
      "97/97 - 0s - loss: 201052000.0000 - val_loss: 199022144.0000 - 272ms/epoch - 3ms/step\n",
      "Epoch 29/50\n",
      "97/97 - 0s - loss: 194739648.0000 - val_loss: 188888992.0000 - 253ms/epoch - 3ms/step\n",
      "Epoch 30/50\n",
      "97/97 - 0s - loss: 184441888.0000 - val_loss: 188485232.0000 - 254ms/epoch - 3ms/step\n",
      "Epoch 31/50\n",
      "97/97 - 0s - loss: 177172048.0000 - val_loss: 171270800.0000 - 256ms/epoch - 3ms/step\n",
      "Epoch 32/50\n",
      "97/97 - 0s - loss: 168292928.0000 - val_loss: 192232864.0000 - 255ms/epoch - 3ms/step\n",
      "Epoch 33/50\n",
      "97/97 - 0s - loss: 161841552.0000 - val_loss: 170524144.0000 - 247ms/epoch - 3ms/step\n",
      "Epoch 34/50\n",
      "97/97 - 0s - loss: 149195088.0000 - val_loss: 142986032.0000 - 258ms/epoch - 3ms/step\n",
      "Epoch 35/50\n",
      "97/97 - 0s - loss: 143938416.0000 - val_loss: 133543784.0000 - 250ms/epoch - 3ms/step\n",
      "Epoch 36/50\n",
      "97/97 - 0s - loss: 130297680.0000 - val_loss: 128378256.0000 - 241ms/epoch - 2ms/step\n",
      "Epoch 37/50\n",
      "97/97 - 0s - loss: 124159688.0000 - val_loss: 116896480.0000 - 244ms/epoch - 3ms/step\n",
      "Epoch 38/50\n",
      "97/97 - 0s - loss: 124916016.0000 - val_loss: 117463552.0000 - 252ms/epoch - 3ms/step\n",
      "Epoch 39/50\n",
      "97/97 - 0s - loss: 113265320.0000 - val_loss: 104483896.0000 - 247ms/epoch - 3ms/step\n",
      "Epoch 40/50\n",
      "97/97 - 0s - loss: 105119448.0000 - val_loss: 100145704.0000 - 244ms/epoch - 3ms/step\n",
      "Epoch 41/50\n",
      "97/97 - 0s - loss: 99640096.0000 - val_loss: 91325056.0000 - 246ms/epoch - 3ms/step\n",
      "Epoch 42/50\n",
      "97/97 - 0s - loss: 91262488.0000 - val_loss: 84898608.0000 - 249ms/epoch - 3ms/step\n",
      "Epoch 43/50\n",
      "97/97 - 0s - loss: 86494152.0000 - val_loss: 88900744.0000 - 249ms/epoch - 3ms/step\n",
      "Epoch 44/50\n",
      "97/97 - 0s - loss: 77941176.0000 - val_loss: 80690168.0000 - 253ms/epoch - 3ms/step\n",
      "Epoch 45/50\n",
      "97/97 - 0s - loss: 72964864.0000 - val_loss: 68856160.0000 - 238ms/epoch - 2ms/step\n",
      "Epoch 46/50\n",
      "97/97 - 0s - loss: 67903528.0000 - val_loss: 61481064.0000 - 244ms/epoch - 3ms/step\n",
      "Epoch 47/50\n",
      "97/97 - 0s - loss: 60821372.0000 - val_loss: 57574104.0000 - 241ms/epoch - 2ms/step\n",
      "Epoch 48/50\n",
      "97/97 - 0s - loss: 58600128.0000 - val_loss: 50364336.0000 - 265ms/epoch - 3ms/step\n",
      "Epoch 49/50\n",
      "97/97 - 0s - loss: 50901484.0000 - val_loss: 47715768.0000 - 248ms/epoch - 3ms/step\n",
      "Epoch 50/50\n",
      "97/97 - 0s - loss: 46291768.0000 - val_loss: 43075808.0000 - 258ms/epoch - 3ms/step\n",
      "35/35 [==============================] - 0s 1ms/step\n"
     ]
    },
    {
     "data": {
      "text/plain": [
       "46704772.06399415"
      ]
     },
     "execution_count": 33,
     "metadata": {},
     "output_type": "execute_result"
    }
   ],
   "source": [
    "# Initialize the function \n",
    "regression_no_normal = regression_model()\n",
    "\n",
    "# Fit the function\n",
    "regression_no_normal.fit(encoded_train_predictors, train_target, validation_split=0.3, epochs=50, verbose=2)\n",
    "predictions_no_normal = regression_no_normal.predict(encoded_test_predictors)\n",
    "\n",
    "# Get Error\n",
    "error_no_normal = mean_squared_error(y_true=test_target, y_pred=predictions_no_normal)\n",
    "error_no_normal"
   ]
  },
  {
   "cell_type": "markdown",
   "metadata": {},
   "source": [
    "## Gradient Boost with no normalization"
   ]
  },
  {
   "cell_type": "code",
   "execution_count": 34,
   "metadata": {},
   "outputs": [
    {
     "data": {
      "text/plain": [
       "3433994.075353985"
      ]
     },
     "execution_count": 34,
     "metadata": {},
     "output_type": "execute_result"
    }
   ],
   "source": [
    "# Initialize model\n",
    "gb_model_no_normal = GradientBoostingRegressor(n_estimators=100, learning_rate=0.1, max_depth=3, random_state=99)\n",
    "\n",
    "# fit model\n",
    "gb_model_no_normal.fit(encoded_train_predictors, train_target)\n",
    "\n",
    "# Make predictions\n",
    "y_pred_gb_no_normal = gb_model_no_normal.predict(encoded_test_predictors)\n",
    "\n",
    "# Get Error\n",
    "mse_gb_no_normal = mean_squared_error(test_target, y_pred_gb_no_normal)\n",
    "mse_gb_no_normal"
   ]
  },
  {
   "cell_type": "markdown",
   "metadata": {},
   "source": [
    "## Random Forst with no normalization"
   ]
  },
  {
   "cell_type": "code",
   "execution_count": 35,
   "metadata": {},
   "outputs": [
    {
     "data": {
      "text/plain": [
       "6487572.049607909"
      ]
     },
     "execution_count": 35,
     "metadata": {},
     "output_type": "execute_result"
    }
   ],
   "source": [
    "# Initialize Model\n",
    "model_no_normal = RandomForestRegressor(n_estimators=100, random_state=42)\n",
    "\n",
    "# Fit and predict with model\n",
    "model_no_normal.fit(encoded_train_predictors, train_target)\n",
    "predictions_no_normal = model_no_normal.predict(encoded_test_predictors)\n",
    "\n",
    "# Get error\n",
    "mse_no_normal = mean_squared_error(test_target, predictions_no_normal)\n",
    "mse_no_normal"
   ]
  }
 ],
 "metadata": {
  "kernelspec": {
   "display_name": "Python 3",
   "language": "python",
   "name": "python3"
  },
  "language_info": {
   "codemirror_mode": {
    "name": "ipython",
    "version": 3
   },
   "file_extension": ".py",
   "mimetype": "text/x-python",
   "name": "python",
   "nbconvert_exporter": "python",
   "pygments_lexer": "ipython3",
   "version": "3.11.1"
  }
 },
 "nbformat": 4,
 "nbformat_minor": 2
}
